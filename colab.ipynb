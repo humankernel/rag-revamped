{
 "cells": [
  {
   "cell_type": "code",
   "execution_count": null,
   "metadata": {},
   "outputs": [],
   "source": [
    "!git clone -b no-iter \"https://github.com/humankernel/rag-revamped.git\" app \n",
    "\n",
    "import os\n",
    "os.chdir(\"app\")"
   ]
  },
  {
   "cell_type": "code",
   "execution_count": null,
   "metadata": {},
   "outputs": [],
   "source": [
    "%%capture\n",
    "!curl -LsSf https://astral.sh/uv/install.sh | sh\n",
    "!uv sync --no-dev"
   ]
  },
  {
   "cell_type": "code",
   "execution_count": null,
   "metadata": {},
   "outputs": [],
   "source": [
    "import os\n",
    "\n",
    "os.environ['EMBEDDING_MODEL'] = 'BAAI/bge-m3'\n",
    "os.environ['RERANKER_MODEL']  = 'BAAI/bge-reranker-v2-m3'\n",
    "os.environ['LLM_MODEL']       = 'Qwen/Qwen3-8B-AWQ'\n",
    "os.environ['DTYPE']           = 'float16'\n",
    "os.environ['CTX_WINDOW']      = '8096'"
   ]
  },
  {
   "cell_type": "code",
   "execution_count": null,
   "metadata": {},
   "outputs": [],
   "source": [
    "!uv run main"
   ]
  }
 ],
 "metadata": {
  "language_info": {
   "name": "python"
  }
 },
 "nbformat": 4,
 "nbformat_minor": 2
}
